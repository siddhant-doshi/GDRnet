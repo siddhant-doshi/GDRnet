{
  "nbformat": 4,
  "nbformat_minor": 0,
  "metadata": {
    "colab": {
      "name": "Using our model.ipynb",
      "provenance": []
    },
    "kernelspec": {
      "name": "python3",
      "display_name": "Python 3"
    }
  },
  "cells": [
    {
      "cell_type": "markdown",
      "metadata": {
        "id": "XsQUPtXI3xST"
      },
      "source": [
        "***Using our drug repurposing model: GDRnet***"
      ]
    },
    {
      "cell_type": "code",
      "metadata": {
        "id": "pRFPJqBu-Yt8"
      },
      "source": [
        "import torch\n",
        "import torch.nn as nn\n",
        "import numpy as np\n",
        "import pickle\n",
        "import openpyxl\n",
        "import re"
      ],
      "execution_count": 1,
      "outputs": []
    },
    {
      "cell_type": "markdown",
      "metadata": {
        "id": "ZiKWh2rtNm1l"
      },
      "source": [
        "Defining the required functions ----------"
      ]
    },
    {
      "cell_type": "code",
      "metadata": {
        "id": "FvhNNsM-IzKq"
      },
      "source": [
        "def predict(net,dis_list): #list of diseases - in Disease::MESH:D###### format\n",
        "  dis_batches,drug_dict = get_disease_batches(nodes_mapping,dis_list)\n",
        "  dis_batches = torch.LongTensor(dis_batches)\n",
        "  dictionaries_norm = []\n",
        "  for i in range(len(dis_batches)):\n",
        "    embed,logits = net(input_features.to(device),ax.to(device),a2x.to(device),dis_batches[i].to(device))\n",
        "    probs = standardize(logits)\n",
        "    dct_norm = dict ()\n",
        "    for j in range(len(probs)):\n",
        "      x = get_node_name(dis_batches[i,j,0].item())\n",
        "      if (x in drug_dict.keys()) : \n",
        "        dct_norm[drug_dict[x][0]] = probs[j].item()\n",
        "      else : \n",
        "        dct_norm[x] = probs[j].item()\n",
        "    dictionaries_norm.append(dct_norm)\n",
        "  return embed,dictionaries_norm\n",
        "\n",
        "def load_variable(filename):\n",
        "  return pickle.load(open(filename,'rb'))\n",
        "\n",
        "def get_node_name(id):\n",
        "  return list(nodes_mapping.keys())[list(nodes_mapping.values()).index(id)]\n",
        "\n",
        "def get_node_id(name):\n",
        "  return list(nodes_mapping.values())[list(nodes_mapping.keys()).index(name)]\n",
        "\n",
        "def load_model_on_cpu(model,path):\n",
        "  model.load_state_dict(torch.load(path,map_location=torch.device('cpu')))\n",
        "  return model\n",
        "\n",
        "def get_disease_batches(nodes_mapping,disease_list): #disease_id in the form like Disease::MESH..\n",
        "  dct = get_drug_name_desc_dict()\n",
        "  keys = list(nodes_mapping.keys())\n",
        "  drugs = []\n",
        "  batches = []\n",
        "  for key in keys:\n",
        "    if (re.search(r\"Compound+\",key,re.I)):\n",
        "      if (key in dct.keys()):\n",
        "        '''We can change the set of drugs here -- as in if wanna remove the withdrawn/experimental drugs''' \n",
        "        #a = dct[key][1].split(',')\n",
        "        #if (not ((('experimental' in a) and (len(a)==1)) or 'withdrawn' in a)) :\n",
        "        drugs.append(nodes_mapping[key])\n",
        "  for disease in disease_list:\n",
        "    disease_id = get_node_id(disease)\n",
        "    batch = []\n",
        "    for drug in drugs:\n",
        "      batch.append((drug,disease_id))\n",
        "    batches.append(batch)\n",
        "  return batches,dct\n",
        "\n",
        "def get_drug_name_desc_dict():\n",
        "  #May need to change the path of Drug_details file accordingly\n",
        "  sheet = openpyxl.load_workbook('/content/drive/My Drive/Using_DR_model/Drug_details.xlsx').active\n",
        "  dct = dict ()\n",
        "  for i in range(1,sheet.max_row+1):\n",
        "    dct[sheet.cell(row=i,column=1).value] = (sheet.cell(row=i,column=2).value,sheet.cell(row=i,column=3).value,sheet.cell(row=i,column=4).value)\n",
        "  return dct\n",
        "\n",
        "def standardize(t):\n",
        "  mean = torch.mean(t)\n",
        "  stdev = torch.std(t)\n",
        "  standard_t = (t-mean)/stdev\n",
        "  return standard_t\n",
        "\n",
        "def get_rank(dct,key):\n",
        "  lst = sorted(dct.items(),key=lambda t:t[1])[::-1]\n",
        "  for i in range(len(lst)):\n",
        "    if (key==lst[i][0]):\n",
        "      break\n",
        "  return i+1"
      ],
      "execution_count": 2,
      "outputs": []
    },
    {
      "cell_type": "markdown",
      "metadata": {
        "id": "RPPklpiN8iff"
      },
      "source": [
        "Model definition / Blue print -------"
      ]
    },
    {
      "cell_type": "code",
      "metadata": {
        "id": "gxZkEvlF6Pdv"
      },
      "source": [
        "L_Relu = nn.LeakyReLU(0.2)\n",
        "sig = nn.Sigmoid()\n",
        "Relu = nn.ReLU()\n",
        "tanh = nn.Tanh()\n",
        "\n",
        "class GDRnet(nn.Module):\n",
        "  def __init__(self):\n",
        "    super(GDRnet, self).__init__()\n",
        "    decoder_dim = 250\n",
        "    input_dim = 400\n",
        "    r = 3\n",
        "    self.theta0 = nn.Linear(input_dim,decoder_dim) \n",
        "    self.theta1 = nn.Linear(input_dim,decoder_dim)\n",
        "    self.theta2 = nn.Linear(input_dim,decoder_dim)\n",
        "    self.combine1 = nn.Linear(decoder_dim*r,decoder_dim) \n",
        "    self.layer8 = nn.Linear(decoder_dim,decoder_dim)\n",
        "    self.layer9 = nn.Linear(decoder_dim,decoder_dim) #not used \n",
        "\n",
        "  def decoder(self,t,batch): \n",
        "    self.t_new = torch.empty(len(batch)).to(device)\n",
        "    for i in range(len(batch)):\n",
        "      self.c = torch.dot(t[batch[i,0].item()],self.layer8(t[batch[i,1].item()])).to(device) #+torch.dot(t[batch[i,1].item()],self.layer9(t[batch[i,0].item()]))).to(device)\n",
        "      self.t_new[i] = self.c\n",
        "    return self.t_new\n",
        "\n",
        "  def forward(self,X,ax,a2x,batch):\n",
        "    t1 = tanh(self.theta0(X))\n",
        "    t2 = tanh(self.theta1(ax))\n",
        "    t3 = tanh(self.theta2(a2x))\n",
        "    c = torch.cat((t1,t2,t3),dim=1)\n",
        "    c = L_Relu(self.combine1(c))\n",
        "    t1 = self.decoder(c,batch)\n",
        "    return c,t1\n",
        "  "
      ],
      "execution_count": 3,
      "outputs": []
    },
    {
      "cell_type": "code",
      "metadata": {
        "id": "KFgt22cDA8lC"
      },
      "source": [
        "device = torch.device(\"cuda\" if torch.cuda.is_available() else \"cpu\")"
      ],
      "execution_count": 4,
      "outputs": []
    },
    {
      "cell_type": "markdown",
      "metadata": {
        "id": "11YvsQVLC2ef"
      },
      "source": [
        "Loading our pre-trained model--------\n"
      ]
    },
    {
      "cell_type": "code",
      "metadata": {
        "id": "_JQeqNDC3r7K"
      },
      "source": [
        "#give a path for all these files\n",
        "input_features = load_variable(\"/content/drive/My Drive/Using_DR_model/input_features.p\") \n",
        "nodes_mapping = load_variable(\"/content/drive/My Drive/Using_DR_model/nodes_mapping.p\")\n",
        "A_tilda = load_variable(\"/content/drive/My Drive/Using_DR_model/A_tilda.p\")\n",
        "ax = A_tilda*np.array(input_features)\n",
        "a2x = A_tilda*ax\n",
        "a2x = torch.tensor(a2x,dtype=torch.float)\n",
        "ax = torch.tensor(ax,dtype=torch.float)\n",
        "empty_model = GDRnet()\n",
        "net = load_model_on_cpu(empty_model,\"/content/drive/My Drive/Using_DR_model/DR_model\").to(device)"
      ],
      "execution_count": 5,
      "outputs": []
    },
    {
      "cell_type": "markdown",
      "metadata": {
        "id": "0Bt77pRWD4p3"
      },
      "source": [
        "We give out a list of all the 4k diseases and 8k drugs in our dataset, on which our is model is trained. We can predict the drugs for any of these diseases."
      ]
    },
    {
      "cell_type": "code",
      "metadata": {
        "id": "xNMrLgwtDyu-",
        "outputId": "2cfb66a9-a536-4b44-b12e-6fc2fcc4e0af",
        "colab": {
          "base_uri": "https://localhost:8080/",
          "height": 53
        }
      },
      "source": [
        "embeddings,drugs = predict(net,[\"Disease::MESH:D008288\"]) #give a list of diseases in the same form as in the \"Disease_list.xlsx\" \n",
        "#embeddings - Our 250 dimensional node embeddings for all the entities in our graph\n",
        "'''drugs - here \"drugs\" will be a list of dictionaries (each dict for a disease you give) with every dict\n",
        "following keys = drug names and values = corresponding scores'''"
      ],
      "execution_count": 6,
      "outputs": [
        {
          "output_type": "execute_result",
          "data": {
            "application/vnd.google.colaboratory.intrinsic+json": {
              "type": "string"
            },
            "text/plain": [
              "'drugs - here \"drugs\" will be a list of dictionaries (each dict for a disease you give) with every dict\\nfollowing keys = drug names and values = corresponding scores'"
            ]
          },
          "metadata": {
            "tags": []
          },
          "execution_count": 6
        }
      ]
    },
    {
      "cell_type": "code",
      "metadata": {
        "id": "RF_BT8C1JM-9",
        "outputId": "ab32e35d-942e-4791-8e25-3c69cef285df",
        "colab": {
          "base_uri": "https://localhost:8080/",
          "height": 35
        }
      },
      "source": [
        "#we can check the rank of any drug in our predicted list ----------\n",
        "get_rank(drugs[0],\"Chloroquine\")"
      ],
      "execution_count": 7,
      "outputs": [
        {
          "output_type": "execute_result",
          "data": {
            "text/plain": [
              "7"
            ]
          },
          "metadata": {
            "tags": []
          },
          "execution_count": 7
        }
      ]
    },
    {
      "cell_type": "code",
      "metadata": {
        "id": "ZPOSFrnrE0ZM",
        "outputId": "7126264d-8191-4aca-b05c-ea3dfd34a55d",
        "colab": {
          "base_uri": "https://localhost:8080/",
          "height": 537
        }
      },
      "source": [
        "#top 30 predicted drugs for a disease, this list is of MESH::D008288 -- Malaria\n",
        "sorted(drugs[0].items(),key=lambda t:t[1])[::-1][:30]"
      ],
      "execution_count": 8,
      "outputs": [
        {
          "output_type": "execute_result",
          "data": {
            "text/plain": [
              "[('Tetracycline', 2.903021812438965),\n",
              " ('Clindamycin', 2.861628532409668),\n",
              " ('Doxycycline', 2.7223026752471924),\n",
              " ('Metronidazole', 2.70158052444458),\n",
              " ('Minocycline', 2.687775135040283),\n",
              " ('Ivermectin', 2.589362621307373),\n",
              " ('Chloroquine', 2.574557065963745),\n",
              " ('Rifapentine', 2.5660512447357178),\n",
              " ('Erythromycin', 2.538343906402588),\n",
              " ('Proguanil', 2.5356037616729736),\n",
              " ('Sulfadiazine', 2.5127780437469482),\n",
              " ('Dapsone', 2.502814769744873),\n",
              " ('Clarithromycin', 2.467073917388916),\n",
              " ('Rifabutin', 2.4631710052490234),\n",
              " ('Trimethoprim', 2.445632219314575),\n",
              " ('Primaquine', 2.4132375717163086),\n",
              " ('Praziquantel', 2.4030725955963135),\n",
              " ('Demeclocycline', 2.4014358520507812),\n",
              " ('Atovaquone', 2.381624221801758),\n",
              " ('Sulfamethoxazole', 2.368584632873535),\n",
              " ('Terbinafine', 2.365410566329956),\n",
              " ('Rifaximin', 2.363856554031372),\n",
              " ('Rifampicin', 2.3388354778289795),\n",
              " ('Loperamide', 2.2780063152313232),\n",
              " ('Hydroxychloroquine', 2.2549023628234863),\n",
              " ('Telithromycin', 2.239393472671509),\n",
              " ('Ketoconazole', 2.238882064819336),\n",
              " ('Esomeprazole', 2.2252304553985596),\n",
              " ('Cyclosporine', 2.2119033336639404),\n",
              " ('Roxithromycin', 2.1992850303649902)]"
            ]
          },
          "metadata": {
            "tags": []
          },
          "execution_count": 8
        }
      ]
    }
  ]
}
